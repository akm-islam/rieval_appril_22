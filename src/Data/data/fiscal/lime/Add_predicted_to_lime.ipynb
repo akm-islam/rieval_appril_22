{
 "cells": [
  {
   "cell_type": "code",
   "execution_count": 1,
   "id": "fa088151",
   "metadata": {},
   "outputs": [],
   "source": [
    "import os\n",
    "import pandas as pd"
   ]
  },
  {
   "cell_type": "code",
   "execution_count": 4,
   "id": "1477101e",
   "metadata": {},
   "outputs": [
    {
     "data": {
      "text/plain": [
       "['.ipynb_checkpoints',\n",
       " '01_FeatureRank.ipynb',\n",
       " '02_Feature_contribution.ipynb',\n",
       " 'Add_predicted_to_lime.ipynb',\n",
       " 'chart1_data.csv',\n",
       " 'fiscal_lime.csv',\n",
       " 'fiscal_rank.csv']"
      ]
     },
     "execution_count": 4,
     "metadata": {},
     "output_type": "execute_result"
    }
   ],
   "source": [
    "os.listdir()"
   ]
  },
  {
   "cell_type": "code",
   "execution_count": 5,
   "id": "243b63cb",
   "metadata": {},
   "outputs": [],
   "source": [
    "data=pd.read_csv('../../../fiscal.csv')"
   ]
  },
  {
   "cell_type": "code",
   "execution_count": 8,
   "id": "4a354154",
   "metadata": {},
   "outputs": [],
   "source": [
    "rank_data=pd.read_csv('fiscal_lime.csv')"
   ]
  },
  {
   "cell_type": "code",
   "execution_count": 9,
   "id": "608f1bef",
   "metadata": {},
   "outputs": [],
   "source": [
    "#rank_data['predicted'] = pd.Series(dtype=int)\n",
    "for index, row in rank_data.iterrows():\n",
    "    ifor_val = data[(data['1-qid']==rank_data.iloc[index]['1-qid']) & (data['two_realRank']==rank_data.iloc[index]['two_realRank'])][rank_data.iloc[index]['model']].item()\n",
    "    rank_data.at[index,'predicted'] = ifor_val"
   ]
  },
  {
   "cell_type": "code",
   "execution_count": 10,
   "id": "69afc24f",
   "metadata": {},
   "outputs": [
    {
     "data": {
      "text/plain": [
       "15.0"
      ]
     },
     "execution_count": 10,
     "metadata": {},
     "output_type": "execute_result"
    }
   ],
   "source": [
    "rank_data[\"predicted\"][10]"
   ]
  },
  {
   "cell_type": "code",
   "execution_count": 11,
   "id": "a68a6041",
   "metadata": {},
   "outputs": [],
   "source": [
    "rank_data.to_csv('fiscal_lime.csv',index=None)"
   ]
  }
 ],
 "metadata": {
  "kernelspec": {
   "display_name": "Python 3",
   "language": "python",
   "name": "python3"
  },
  "language_info": {
   "codemirror_mode": {
    "name": "ipython",
    "version": 3
   },
   "file_extension": ".py",
   "mimetype": "text/x-python",
   "name": "python",
   "nbconvert_exporter": "python",
   "pygments_lexer": "ipython3",
   "version": "3.8.8"
  }
 },
 "nbformat": 4,
 "nbformat_minor": 5
}
