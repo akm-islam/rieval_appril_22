{
 "cells": [
  {
   "cell_type": "code",
   "execution_count": 1,
   "metadata": {},
   "outputs": [],
   "source": [
    "import pandas as pd\n",
    "import glob"
   ]
  },
  {
   "cell_type": "code",
   "execution_count": 2,
   "metadata": {},
   "outputs": [],
   "source": [
    "a=[\"CordAscent\",\"LambdaMART\",\"LambdaRank\",\"LinearReg\",\"ListNet\",\"MART\",\"RandomFor\",\"RankBoost\",\"RankNet\"]\n",
    "b=[\n",
    "\"./chart1_data.csv\",\n",
    "\"./chart2_data.csv\",\n",
    "\"./chart3_data.csv\",\n",
    "\"./chart4_data.csv\",\n",
    "\"./chart5_data.csv\",\n",
    "\"./chart6_data.csv\",\n",
    "\"./chart7_data.csv\",\n",
    "\"./chart8_data.csv\",\n",
    "\"./chart9_data.csv\",\n",
    "]"
   ]
  },
  {
   "cell_type": "code",
   "execution_count": 3,
   "metadata": {},
   "outputs": [],
   "source": [
    "temp=[]\n",
    "for i in range(9):   \n",
    "    try:\n",
    "        df=pd.read_csv(b[i],index_col=0)\n",
    "        df['model']=a[i]\n",
    "        temp.append(df)\n",
    "    except:\n",
    "        print(i)"
   ]
  },
  {
   "cell_type": "code",
   "execution_count": 4,
   "metadata": {},
   "outputs": [],
   "source": [
    "merged=pd.concat(temp);"
   ]
  },
  {
   "cell_type": "markdown",
   "metadata": {},
   "source": [
    "# Remove extra columns"
   ]
  },
  {
   "cell_type": "code",
   "execution_count": 5,
   "metadata": {},
   "outputs": [],
   "source": [
    "for j in merged.columns:\n",
    "    if \"feature_rank\" in j:\n",
    "        merged.drop(j,axis=1,inplace=True)"
   ]
  },
  {
   "cell_type": "code",
   "execution_count": 6,
   "metadata": {},
   "outputs": [],
   "source": [
    "for j in merged.columns:\n",
    "    if j in a:\n",
    "        merged.drop(j,axis=1,inplace=True)"
   ]
  },
  {
   "cell_type": "code",
   "execution_count": 7,
   "metadata": {},
   "outputs": [
    {
     "data": {
      "text/plain": [
       "Index(['1-qid', 'two_realRank', 'two_realRank2', 'State', 'MSSubClass',\n",
       "       'MSZoning', 'LotFrontage', 'LotArea', 'Street', 'Alley',\n",
       "       ...\n",
       "       'Street_contribution', 'TotRmsAbvGrd_contribution',\n",
       "       'TotalBsmtSF_contribution', 'Utilities_contribution',\n",
       "       'WoodDeckSF_contribution', 'YearBuilt_contribution',\n",
       "       'YearRemodAdd_contribution', 'model', 'Cord.Ascent', 'LinearReg.'],\n",
       "      dtype='object', length=163)"
      ]
     },
     "execution_count": 7,
     "metadata": {},
     "output_type": "execute_result"
    }
   ],
   "source": [
    "merged.columns"
   ]
  },
  {
   "cell_type": "code",
   "execution_count": 11,
   "metadata": {},
   "outputs": [
    {
     "data": {
      "text/plain": [
       "['1-qid',\n",
       " 'two_realRank',\n",
       " 'two_realRank2',\n",
       " 'State',\n",
       " 'MSSubClass',\n",
       " 'MSZoning',\n",
       " 'LotFrontage',\n",
       " 'LotArea',\n",
       " 'Street',\n",
       " 'Alley',\n",
       " 'LotShape',\n",
       " 'LandContour',\n",
       " 'Utilities',\n",
       " 'LotConfig',\n",
       " 'LandSlope',\n",
       " 'Neighborhood',\n",
       " 'Condition1',\n",
       " 'Condition2',\n",
       " 'BldgType',\n",
       " 'HouseStyle',\n",
       " 'OverallQual',\n",
       " 'OverallCond',\n",
       " 'YearBuilt',\n",
       " 'YearRemodAdd',\n",
       " 'RoofStyle',\n",
       " 'RoofMatl',\n",
       " 'Exterior1st',\n",
       " 'Exterior2nd',\n",
       " 'MasVnrType',\n",
       " 'MasVnrArea',\n",
       " 'ExterQual',\n",
       " 'ExterCond',\n",
       " 'Foundation',\n",
       " 'BsmtQual',\n",
       " 'BsmtCond',\n",
       " 'BsmtExposure',\n",
       " 'BsmtFinType1',\n",
       " 'BsmtFinSF1',\n",
       " 'BsmtFinType2',\n",
       " 'BsmtFinSF2',\n",
       " 'BsmtUnfSF',\n",
       " 'TotalBsmtSF',\n",
       " 'Heating',\n",
       " 'HeatingQC',\n",
       " 'CentralAir',\n",
       " 'Electrical',\n",
       " '1stFlrSF',\n",
       " '2ndFlrSF',\n",
       " 'LowQualFinSF',\n",
       " 'GrLivArea',\n",
       " 'BsmtFullBath',\n",
       " 'BsmtHalfBath',\n",
       " 'FullBath',\n",
       " 'HalfBath',\n",
       " 'BedroomAbvGr',\n",
       " 'KitchenAbvGr',\n",
       " 'KitchenQual',\n",
       " 'TotRmsAbvGrd',\n",
       " 'Functional',\n",
       " 'Fireplaces',\n",
       " 'FireplaceQu',\n",
       " 'GarageType',\n",
       " 'GarageYrBlt',\n",
       " 'GarageFinish',\n",
       " 'GarageCars',\n",
       " 'GarageArea',\n",
       " 'GarageQual',\n",
       " 'GarageCond',\n",
       " 'PavedDrive',\n",
       " 'WoodDeckSF',\n",
       " 'OpenPorchSF',\n",
       " 'EnclosedPorch',\n",
       " '3SsnPorch',\n",
       " 'ScreenPorch',\n",
       " 'PoolArea',\n",
       " 'PoolQC',\n",
       " 'Fence',\n",
       " 'MiscFeature',\n",
       " 'MiscVal',\n",
       " 'MoSold',\n",
       " 'SaleType',\n",
       " 'SaleCondition',\n",
       " '1stFlrSF_contribution',\n",
       " '2ndFlrSF_contribution',\n",
       " '3SsnPorch_contribution',\n",
       " 'Alley_contribution',\n",
       " 'BedroomAbvGr_contribution',\n",
       " 'BldgType_contribution',\n",
       " 'BsmtCond_contribution',\n",
       " 'BsmtExposure_contribution',\n",
       " 'BsmtFinSF1_contribution',\n",
       " 'BsmtFinSF2_contribution',\n",
       " 'BsmtFinType1_contribution',\n",
       " 'BsmtFinType2_contribution',\n",
       " 'BsmtFullBath_contribution',\n",
       " 'BsmtHalfBath_contribution',\n",
       " 'BsmtQual_contribution',\n",
       " 'BsmtUnfSF_contribution',\n",
       " 'CentralAir_contribution',\n",
       " 'Condition1_contribution',\n",
       " 'Condition2_contribution',\n",
       " 'Electrical_contribution',\n",
       " 'EnclosedPorch_contribution',\n",
       " 'ExterCond_contribution',\n",
       " 'ExterQual_contribution',\n",
       " 'Exterior1st_contribution',\n",
       " 'Exterior2nd_contribution',\n",
       " 'Fence_contribution',\n",
       " 'FireplaceQu_contribution',\n",
       " 'Fireplaces_contribution',\n",
       " 'Foundation_contribution',\n",
       " 'FullBath_contribution',\n",
       " 'Functional_contribution',\n",
       " 'GarageArea_contribution',\n",
       " 'GarageCars_contribution',\n",
       " 'GarageCond_contribution',\n",
       " 'GarageFinish_contribution',\n",
       " 'GarageQual_contribution',\n",
       " 'GarageType_contribution',\n",
       " 'GarageYrBlt_contribution',\n",
       " 'GrLivArea_contribution',\n",
       " 'HalfBath_contribution',\n",
       " 'Heating_contribution',\n",
       " 'HeatingQC_contribution',\n",
       " 'HouseStyle_contribution',\n",
       " 'KitchenAbvGr_contribution',\n",
       " 'KitchenQual_contribution',\n",
       " 'LandContour_contribution',\n",
       " 'LandSlope_contribution',\n",
       " 'LotArea_contribution',\n",
       " 'LotConfig_contribution',\n",
       " 'LotFrontage_contribution',\n",
       " 'LotShape_contribution',\n",
       " 'LowQualFinSF_contribution',\n",
       " 'MSSubClass_contribution',\n",
       " 'MSZoning_contribution',\n",
       " 'MasVnrArea_contribution',\n",
       " 'MasVnrType_contribution',\n",
       " 'MiscFeature_contribution',\n",
       " 'MiscVal_contribution',\n",
       " 'MoSold_contribution',\n",
       " 'Neighborhood_contribution',\n",
       " 'OpenPorchSF_contribution',\n",
       " 'OverallCond_contribution',\n",
       " 'OverallQual_contribution',\n",
       " 'PavedDrive_contribution',\n",
       " 'PoolArea_contribution',\n",
       " 'PoolQC_contribution',\n",
       " 'RoofMatl_contribution',\n",
       " 'RoofStyle_contribution',\n",
       " 'SaleCondition_contribution',\n",
       " 'SaleType_contribution',\n",
       " 'ScreenPorch_contribution',\n",
       " 'Street_contribution',\n",
       " 'TotRmsAbvGrd_contribution',\n",
       " 'TotalBsmtSF_contribution',\n",
       " 'Utilities_contribution',\n",
       " 'WoodDeckSF_contribution',\n",
       " 'YearBuilt_contribution',\n",
       " 'YearRemodAdd_contribution',\n",
       " 'model',\n",
       " 'Cord.Ascent',\n",
       " 'LinearReg.']"
      ]
     },
     "execution_count": 11,
     "metadata": {},
     "output_type": "execute_result"
    }
   ],
   "source": [
    "merged.columns.tolist()"
   ]
  },
  {
   "cell_type": "code",
   "execution_count": 9,
   "metadata": {},
   "outputs": [],
   "source": [
    "merged.to_csv('house_lime.csv',index=False)"
   ]
  },
  {
   "cell_type": "code",
   "execution_count": null,
   "metadata": {},
   "outputs": [],
   "source": []
  }
 ],
 "metadata": {
  "hide_input": false,
  "kernelspec": {
   "display_name": "Python 3",
   "language": "python",
   "name": "python3"
  },
  "language_info": {
   "codemirror_mode": {
    "name": "ipython",
    "version": 3
   },
   "file_extension": ".py",
   "mimetype": "text/x-python",
   "name": "python",
   "nbconvert_exporter": "python",
   "pygments_lexer": "ipython3",
   "version": "3.8.5"
  }
 },
 "nbformat": 4,
 "nbformat_minor": 2
}
