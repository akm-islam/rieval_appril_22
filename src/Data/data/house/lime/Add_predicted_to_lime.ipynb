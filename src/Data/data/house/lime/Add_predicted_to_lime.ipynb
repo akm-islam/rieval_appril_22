{
 "cells": [
  {
   "cell_type": "code",
   "execution_count": 1,
   "id": "fa088151",
   "metadata": {},
   "outputs": [],
   "source": [
    "import os\n",
    "import pandas as pd"
   ]
  },
  {
   "cell_type": "code",
   "execution_count": 2,
   "id": "1477101e",
   "metadata": {},
   "outputs": [
    {
     "data": {
      "text/plain": [
       "['.ipynb_checkpoints',\n",
       " '00 Test.ipynb',\n",
       " '01_FeatureRank.ipynb',\n",
       " '02_Feature_contribution.ipynb',\n",
       " 'Add_predicted_to_lime.ipynb',\n",
       " 'chart1_data.csv',\n",
       " 'house_lime.csv',\n",
       " 'house_rank.csv']"
      ]
     },
     "execution_count": 2,
     "metadata": {},
     "output_type": "execute_result"
    }
   ],
   "source": [
    "os.listdir()"
   ]
  },
  {
   "cell_type": "code",
   "execution_count": 3,
   "id": "243b63cb",
   "metadata": {},
   "outputs": [],
   "source": [
    "data=pd.read_csv('../../../house.csv')"
   ]
  },
  {
   "cell_type": "code",
   "execution_count": 5,
   "id": "4a354154",
   "metadata": {},
   "outputs": [],
   "source": [
    "rank_data=pd.read_csv('house_lime.csv')"
   ]
  },
  {
   "cell_type": "code",
   "execution_count": 8,
   "id": "608f1bef",
   "metadata": {},
   "outputs": [
    {
     "name": "stdout",
     "output_type": "stream",
     "text": [
      "168    144\n",
      "169     56\n",
      "170      5\n",
      "171     37\n",
      "172    114\n",
      "173    239\n",
      "Name: CordAscent, dtype: int64\n",
      "12    36\n",
      "Name: CordAscent, dtype: int64\n",
      "244    228\n",
      "Name: CordAscent, dtype: int64\n",
      "16    69\n",
      "Name: CordAscent, dtype: int64\n",
      "69    174\n",
      "70      4\n",
      "Name: CordAscent, dtype: int64\n",
      "21    86\n",
      "Name: CordAscent, dtype: int64\n",
      "124      2\n",
      "125    193\n",
      "126    120\n",
      "127    223\n",
      "Name: CordAscent, dtype: int64\n",
      "165    195\n",
      "166    146\n",
      "Name: CordAscent, dtype: int64\n",
      "225    231\n",
      "Name: CordAscent, dtype: int64\n",
      "6    222\n",
      "Name: CordAscent, dtype: int64\n",
      "81    107\n",
      "Name: CordAscent, dtype: int64\n",
      "3    35\n",
      "Name: CordAscent, dtype: int64\n",
      "132    7\n",
      "Name: CordAscent, dtype: int64\n",
      "57     76\n",
      "58    126\n",
      "Name: CordAscent, dtype: int64\n",
      "140    13\n",
      "141    75\n",
      "Name: CordAscent, dtype: int64\n",
      "35    143\n",
      "36     66\n",
      "Name: CordAscent, dtype: int64\n",
      "230    122\n",
      "Name: CordAscent, dtype: int64\n",
      "239    203\n",
      "Name: CordAscent, dtype: int64\n",
      "66    161\n",
      "Name: CordAscent, dtype: int64\n",
      "180    83\n",
      "Name: CordAscent, dtype: int64\n"
     ]
    }
   ],
   "source": [
    "#rank_data['predicted'] = pd.Series(dtype=int)\n",
    "for index, row in rank_data.iterrows():\n",
    "    if(index<20):\n",
    "        print(data[(data['1-qid']==rank_data.iloc[index]['1-qid']) & (data['two_realRank']==rank_data.iloc[index]['two_realRank'])][rank_data.iloc[index]['model']])\n",
    "    #ifor_val = data[(data['1-qid']==rank_data.iloc[index]['1-qid']) & (data['two_realRank']==rank_data.iloc[index]['two_realRank'])][rank_data.iloc[index]['model']].item()\n",
    "    #rank_data.at[index,'predicted'] = ifor_val"
   ]
  },
  {
   "cell_type": "code",
   "execution_count": null,
   "id": "69afc24f",
   "metadata": {},
   "outputs": [],
   "source": [
    "rank_data[\"predicted\"][10]"
   ]
  },
  {
   "cell_type": "code",
   "execution_count": null,
   "id": "a68a6041",
   "metadata": {},
   "outputs": [],
   "source": [
    "rank_data.to_csv('out.csv',index=None)"
   ]
  }
 ],
 "metadata": {
  "kernelspec": {
   "display_name": "Python 3",
   "language": "python",
   "name": "python3"
  },
  "language_info": {
   "codemirror_mode": {
    "name": "ipython",
    "version": 3
   },
   "file_extension": ".py",
   "mimetype": "text/x-python",
   "name": "python",
   "nbconvert_exporter": "python",
   "pygments_lexer": "ipython3",
   "version": "3.8.8"
  }
 },
 "nbformat": 4,
 "nbformat_minor": 5
}
