{
 "cells": [
  {
   "cell_type": "code",
   "execution_count": 1,
   "id": "fa088151",
   "metadata": {},
   "outputs": [],
   "source": [
    "import os\n",
    "import pandas as pd"
   ]
  },
  {
   "cell_type": "code",
   "execution_count": 2,
   "id": "243b63cb",
   "metadata": {},
   "outputs": [],
   "source": [
    "data=pd.read_csv('CWUR.csv')"
   ]
  },
  {
   "cell_type": "code",
   "execution_count": 3,
   "id": "4a354154",
   "metadata": {},
   "outputs": [],
   "source": [
    "lime_data=pd.read_csv('CWUR_lime.csv')"
   ]
  },
  {
   "cell_type": "code",
   "execution_count": 4,
   "id": "608f1bef",
   "metadata": {},
   "outputs": [],
   "source": [
    "#rank_data['predicted'] = pd.Series(dtype=int)\n",
    "for index, row in lime_data.iterrows():\n",
    "    ifor_val = data[(data['1-qid']==lime_data.iloc[index]['1-qid']) & (data['State']==lime_data.iloc[index]['State'])][lime_data.iloc[index]['model']].item()\n",
    "    lime_data.at[index,'predicted'] = ifor_val"
   ]
  },
  {
   "cell_type": "code",
   "execution_count": 5,
   "id": "69afc24f",
   "metadata": {},
   "outputs": [
    {
     "data": {
      "text/plain": [
       "21.0"
      ]
     },
     "execution_count": 5,
     "metadata": {},
     "output_type": "execute_result"
    }
   ],
   "source": [
    "lime_data[\"predicted\"][10]"
   ]
  },
  {
   "cell_type": "code",
   "execution_count": 6,
   "id": "a68a6041",
   "metadata": {},
   "outputs": [],
   "source": [
    "lime_data.to_csv('CWUR_lime.csv',index=None)"
   ]
  },
  {
   "cell_type": "code",
   "execution_count": null,
   "id": "d9996140",
   "metadata": {},
   "outputs": [],
   "source": []
  }
 ],
 "metadata": {
  "kernelspec": {
   "display_name": "Python 3",
   "language": "python",
   "name": "python3"
  },
  "language_info": {
   "codemirror_mode": {
    "name": "ipython",
    "version": 3
   },
   "file_extension": ".py",
   "mimetype": "text/x-python",
   "name": "python",
   "nbconvert_exporter": "python",
   "pygments_lexer": "ipython3",
   "version": "3.10.0"
  }
 },
 "nbformat": 4,
 "nbformat_minor": 5
}
